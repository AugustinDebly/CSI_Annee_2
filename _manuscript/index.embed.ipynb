{
 "cells": [
  {
   "cell_type": "markdown",
   "metadata": {},
   "source": [
    "# CSI DEBLY Augustin 2nd year\n",
    "\n",
    "Augustin Debly\n",
    "\n",
    "# State of the art\n",
    "\n",
    "## NDVI-Biomass relationship in microphytobenthic studies : a review\n",
    "\n",
    "### State of the art"
   ],
   "id": "e9f790e8-4c0b-4723-a3c6-c7f27b6cf2e3"
  },
  {
   "cell_type": "raw",
   "metadata": {
    "raw_mimetype": "text/latex"
   },
   "source": [
    "\\usepackage{multirow}\n",
    "\\usepackage[table,xcdraw]{xcolor}\n",
    "\n",
    "\\begin{table}[]\n",
    "\\begin{tabular}{|cccc|ccc|ccc|}\n",
    "\\hline\n",
    "\\rowcolor[HTML]{D0CECE} \n",
    "\\multicolumn{4}{|c|}{\\cellcolor[HTML]{D0CECE}Fonction}                                                                                                                                                                      & \\multicolumn{3}{c|}{\\cellcolor[HTML]{D0CECE}Publication}                                                                                                                                                                                                                                & \\multicolumn{3}{c|}{\\cellcolor[HTML]{D0CECE}Paramètres fonction}                                                           \\\\ \\hline\n",
    "\\rowcolor[HTML]{D0CECE} \n",
    "\\multicolumn{1}{|c|}{\\cellcolor[HTML]{D0CECE}Forme}          & \\multicolumn{1}{c|}{\\cellcolor[HTML]{D0CECE}Limite en 0} & \\multicolumn{1}{c|}{\\cellcolor[HTML]{D0CECE}Limite en +inf} & Fonction inverse                    & \\multicolumn{1}{c|}{\\cellcolor[HTML]{D0CECE}Nom}                                                                                                                                                                          & \\multicolumn{1}{c|}{\\cellcolor[HTML]{D0CECE}Site} & Période & \\multicolumn{1}{c|}{\\cellcolor[HTML]{D0CECE}a} & \\multicolumn{1}{c|}{\\cellcolor[HTML]{D0CECE}b} & c                        \\\\ \\hline\n",
    "\\multicolumn{1}{|c|}{}                                       & \\multicolumn{1}{c|}{}                                    & \\multicolumn{1}{c|}{}                                       &                                     & \\multicolumn{1}{c|}{Linking   microphytobenthos distribution and mudflat geomorphology under varying   sedimentary regimes using unoccupied aerial vehicle (UAV)-acquired   multispectral reflectance and photogrammetry} & \\multicolumn{1}{c|}{}                             &         & \\multicolumn{1}{c|}{1,343E-03}                 & \\multicolumn{1}{c|}{-2,406E-02}                & \\cellcolor[HTML]{F2F2F2} \\\\ \\cline{5-10} \n",
    "\\multicolumn{1}{|c|}{}                                       & \\multicolumn{1}{c|}{}                                    & \\multicolumn{1}{c|}{}                                       &                                     & \\multicolumn{1}{c|}{Microphytobenthos spatio-temporal dynamics across an intertidal   gradient in a tropical estuary using Sentinel-2 imagery}                                                                            & \\multicolumn{1}{c|}{}                             &         & \\multicolumn{1}{c|}{}                          & \\multicolumn{1}{c|}{}                          & \\cellcolor[HTML]{F2F2F2} \\\\ \\cline{5-10} \n",
    "\\multicolumn{1}{|c|}{}                                       & \\multicolumn{1}{c|}{}                                    & \\multicolumn{1}{c|}{}                                       &                                     & \\multicolumn{1}{c|}{Intertidal microphytobenthic primary production and net   metabolism of a tropical estuary}                                                                                                           & \\multicolumn{1}{c|}{}                             &         & \\multicolumn{1}{c|}{}                          & \\multicolumn{1}{c|}{}                          & \\cellcolor[HTML]{F2F2F2} \\\\ \\cline{5-10} \n",
    "\\multicolumn{1}{|c|}{}                                       & \\multicolumn{1}{c|}{}                                    & \\multicolumn{1}{c|}{}                                       &                                     & \\multicolumn{1}{c|}{Spatial synchrony in intertidal benthic algal biomass in   temperate coastal and estuarine ecosystems}                                                                                                & \\multicolumn{1}{c|}{}                             &         & \\multicolumn{1}{c|}{}                          & \\multicolumn{1}{c|}{}                          & \\cellcolor[HTML]{F2F2F2} \\\\ \\cline{5-10} \n",
    "\\multicolumn{1}{|c|}{}                                       & \\multicolumn{1}{c|}{}                                    & \\multicolumn{1}{c|}{}                                       &                                     & \\multicolumn{1}{c|}{Assessing intertidal sediment photopigment content from spectral   reflectance with an UAV-mounted 10-band multispectral sensor}                                                                      & \\multicolumn{1}{c|}{}                             &         & \\multicolumn{1}{c|}{}                          & \\multicolumn{1}{c|}{}                          & \\cellcolor[HTML]{F2F2F2} \\\\ \\cline{5-10} \n",
    "\\multicolumn{1}{|c|}{}                                       & \\multicolumn{1}{c|}{}                                    & \\multicolumn{1}{c|}{}                                       &                                     & \\multicolumn{1}{c|}{High-resolution temporal NDVI data reveal contrasting   intratidal, spring-neap and seasonal biomass dynamics in euglenoid- and   diatom-dominated biofilms}                                          & \\multicolumn{1}{c|}{}                             &         & \\multicolumn{1}{c|}{}                          & \\multicolumn{1}{c|}{}                          & \\cellcolor[HTML]{F2F2F2} \\\\ \\cline{5-10} \n",
    "\\multicolumn{1}{|c|}{\\multirow{-7}{*}{NDVI = a B + b}}       & \\multicolumn{1}{c|}{\\multirow{-7}{*}{b}}                 & \\multicolumn{1}{c|}{\\multirow{-7}{*}{+inf}}                 & \\multirow{-7}{*}{B = 1/a NDVI -b/a} & \\multicolumn{1}{c|}{Mapping intertidal microphytobenthic biomass with very   high-resolution remote sensing imagery in an estuarine system}                                                                               & \\multicolumn{1}{c|}{}                             &         & \\multicolumn{1}{c|}{2,028E-02}                 & \\multicolumn{1}{c|}{-4,949E-01}                & \\cellcolor[HTML]{F2F2F2} \\\\ \\hline\n",
    "\\multicolumn{1}{|c|}{NDVI = a+b(1-exp(-cB))}                 & \\multicolumn{1}{c|}{a}                                   & \\multicolumn{1}{c|}{a+b}                                    & B = (1/c)   ln(a/(a+b-NDVI))        & \\multicolumn{1}{c|}{Spectral   response of benthic diatoms with different sediment backgrounds}                                                                                                                           & \\multicolumn{1}{c|}{}                             &         & \\multicolumn{1}{c|}{1,480E-01}                 & \\multicolumn{1}{c|}{4,740E-01}                 & 2,800E-02                \\\\ \\hline\n",
    "\\multicolumn{1}{|c|}{NDVI =   ((B-a)/b)^(1/c)}               & \\multicolumn{1}{c|}{(-a/b)^(1/c)}                        & \\multicolumn{1}{c|}{+inf}                                   & B = a+b NDVI^c                      & \\multicolumn{1}{c|}{Seasonality of   microphytobenthos revealed by remote-sensing in a South European estuary}                                                                                                            & \\multicolumn{1}{c|}{}                             &         & \\multicolumn{1}{c|}{-9,040E-01}                & \\multicolumn{1}{c|}{3,672E+03}                 & 3,037E+00                \\\\ \\hline\n",
    "\\multicolumn{1}{|c|}{}                                       & \\multicolumn{1}{c|}{}                                    & \\multicolumn{1}{c|}{}                                       &                                     & \\multicolumn{1}{c|}{Non-destructive monitoring of   microalgae biofilms}                                                                                                                                                  & \\multicolumn{1}{c|}{}                             &         & \\multicolumn{1}{c|}{}                          & \\multicolumn{1}{c|}{}                          & \\cellcolor[HTML]{F2F2F2} \\\\ \\cline{5-10} \n",
    "\\multicolumn{1}{|c|}{\\multirow{-2}{*}{NDVI = 1/b ln(1/a B)}} & \\multicolumn{1}{c|}{\\multirow{-2}{*}{-inf}}              & \\multicolumn{1}{c|}{\\multirow{-2}{*}{+inf}}                 & \\multirow{-2}{*}{B = a exp(b NDVI)} & \\multicolumn{1}{c|}{Microphytobenthos   spatio-temporal dynamics across an intertidal gradient using Random Forest   classification and Sentinel-2 imagery}                                                               & \\multicolumn{1}{c|}{}                             &         & \\multicolumn{1}{c|}{}                          & \\multicolumn{1}{c|}{}                          & \\cellcolor[HTML]{F2F2F2} \\\\ \\hline\n",
    "\\end{tabular}\n",
    "\\end{table}"
   ],
   "id": "83e8abce-2794-4467-97d4-c7f45a1132c5"
  },
  {
   "cell_type": "code",
   "execution_count": null,
   "metadata": {},
   "outputs": [
    {
     "output_type": "stream",
     "name": "stderr",
     "text": [
      "Warning: package 'flextable' was built under R version 4.3.3"
     ]
    },
    {
     "output_type": "stream",
     "name": "stderr",
     "text": [
      "Warning: package 'tidyverse' was built under R version 4.3.3"
     ]
    },
    {
     "output_type": "stream",
     "name": "stderr",
     "text": [
      "Warning: package 'readr' was built under R version 4.3.3"
     ]
    },
    {
     "output_type": "stream",
     "name": "stderr",
     "text": [
      "Warning: package 'forcats' was built under R version 4.3.3"
     ]
    },
    {
     "output_type": "stream",
     "name": "stderr",
     "text": [
      "── Attaching core tidyverse packages ──────────────────────── tidyverse 2.0.0 ──\n",
      "✔ dplyr     1.1.4     ✔ readr     2.1.5\n",
      "✔ forcats   1.0.0     ✔ stringr   1.5.1\n",
      "✔ ggplot2   3.4.4     ✔ tibble    3.2.1\n",
      "✔ lubridate 1.9.3     ✔ tidyr     1.3.0\n",
      "✔ purrr     1.0.2     \n",
      "── Conflicts ────────────────────────────────────────── tidyverse_conflicts() ──\n",
      "✖ purrr::compose() masks flextable::compose()\n",
      "✖ dplyr::filter()  masks stats::filter()\n",
      "✖ dplyr::lag()     masks stats::lag()\n",
      "ℹ Use the conflicted package (<http://conflicted.r-lib.org/>) to force all conflicts to become errors"
     ]
    },
    {
     "output_type": "display_data",
     "metadata": {},
     "data": {
      "text/html": [
       "<div class=\"tabwid\"><style>.cl-1e525c40{}.cl-1e4616f6{font-family:'Arial';font-size:11pt;font-weight:bold;font-style:normal;text-decoration:none;color:rgba(0, 0, 0, 1.00);background-color:transparent;}.cl-1e46170a{font-family:'Arial';font-size:11pt;font-weight:normal;font-style:normal;text-decoration:none;color:rgba(0, 0, 0, 1.00);background-color:transparent;}.cl-1e4f5784{margin:0;text-align:center;border-bottom: 0 solid rgba(0, 0, 0, 1.00);border-top: 0 solid rgba(0, 0, 0, 1.00);border-left: 0 solid rgba(0, 0, 0, 1.00);border-right: 0 solid rgba(0, 0, 0, 1.00);padding-bottom:5pt;padding-top:5pt;padding-left:5pt;padding-right:5pt;line-height: 1;background-color:transparent;}.cl-1e4f578e{margin:0;text-align:left;border-bottom: 0 solid rgba(0, 0, 0, 1.00);border-top: 0 solid rgba(0, 0, 0, 1.00);border-left: 0 solid rgba(0, 0, 0, 1.00);border-right: 0 solid rgba(0, 0, 0, 1.00);padding-bottom:5pt;padding-top:5pt;padding-left:5pt;padding-right:5pt;line-height: 1;background-color:transparent;}.cl-1e4f64ae{width:0.75in;background-color:transparent;vertical-align: middle;border-bottom: 0.75pt solid rgba(102, 102, 102, 1.00);border-top: 1.5pt solid rgba(102, 102, 102, 1.00);border-left: 0 solid rgba(0, 0, 0, 1.00);border-right: 0 solid rgba(0, 0, 0, 1.00);margin-bottom:0;margin-top:0;margin-left:0;margin-right:0;}.cl-1e4f64b8{width:0.75in;background-color:transparent;vertical-align: middle;border-bottom: 1.5pt solid rgba(102, 102, 102, 1.00);border-top: 0.75pt solid rgba(102, 102, 102, 1.00);border-left: 0 solid rgba(0, 0, 0, 1.00);border-right: 0 solid rgba(0, 0, 0, 1.00);margin-bottom:0;margin-top:0;margin-left:0;margin-right:0;}.cl-1e4f64b9{width:0.75in;background-color:transparent;vertical-align: middle;border-bottom: 0.75pt solid rgba(102, 102, 102, 1.00);border-top: 0 solid rgba(0, 0, 0, 1.00);border-left: 0 solid rgba(0, 0, 0, 1.00);border-right: 0 solid rgba(0, 0, 0, 1.00);margin-bottom:0;margin-top:0;margin-left:0;margin-right:0;}.cl-1e4f64ba{width:0.75in;background-color:transparent;vertical-align: middle;border-bottom: 0.75pt solid rgba(102, 102, 102, 1.00);border-top: 0.75pt solid rgba(102, 102, 102, 1.00);border-left: 0 solid rgba(0, 0, 0, 1.00);border-right: 0 solid rgba(0, 0, 0, 1.00);margin-bottom:0;margin-top:0;margin-left:0;margin-right:0;}.cl-1e4f64bb{width:0.75in;background-color:transparent;vertical-align: middle;border-bottom: 1.5pt solid rgba(102, 102, 102, 1.00);border-top: 0.75pt solid rgba(102, 102, 102, 1.00);border-left: 0 solid rgba(0, 0, 0, 1.00);border-right: 0 solid rgba(0, 0, 0, 1.00);margin-bottom:0;margin-top:0;margin-left:0;margin-right:0;}</style><table data-quarto-disable-processing='true' class='cl-1e525c40'><thead><tr style=\"overflow-wrap:break-word;\"><th  colspan=\"4\"class=\"cl-1e4f64ae\"><p class=\"cl-1e4f5784\"><span class=\"cl-1e4616f6\">Fonction</span></p></th><th  colspan=\"3\"class=\"cl-1e4f64ae\"><p class=\"cl-1e4f5784\"><span class=\"cl-1e4616f6\">Publication</span></p></th><th  colspan=\"3\"class=\"cl-1e4f64ae\"><p class=\"cl-1e4f5784\"><span class=\"cl-1e4616f6\">Paramètres</span></p></th></tr><tr style=\"overflow-wrap:break-word;\"><th class=\"cl-1e4f64b8\"><p class=\"cl-1e4f5784\"><span class=\"cl-1e4616f6\">Forme</span></p></th><th class=\"cl-1e4f64b8\"><p class=\"cl-1e4f5784\"><span class=\"cl-1e4616f6\">Limite.en.0</span></p></th><th class=\"cl-1e4f64b8\"><p class=\"cl-1e4f5784\"><span class=\"cl-1e4616f6\">Limite.en..inf</span></p></th><th class=\"cl-1e4f64b8\"><p class=\"cl-1e4f5784\"><span class=\"cl-1e4616f6\">Fonction.inverse</span></p></th><th class=\"cl-1e4f64b8\"><p class=\"cl-1e4f5784\"><span class=\"cl-1e4616f6\">Nom</span></p></th><th class=\"cl-1e4f64b8\"><p class=\"cl-1e4f5784\"><span class=\"cl-1e4616f6\">Site</span></p></th><th class=\"cl-1e4f64b8\"><p class=\"cl-1e4f5784\"><span class=\"cl-1e4616f6\">Periode</span></p></th><th class=\"cl-1e4f64b8\"><p class=\"cl-1e4f5784\"><span class=\"cl-1e4616f6\">a</span></p></th><th class=\"cl-1e4f64b8\"><p class=\"cl-1e4f5784\"><span class=\"cl-1e4616f6\">b</span></p></th><th class=\"cl-1e4f64b8\"><p class=\"cl-1e4f5784\"><span class=\"cl-1e4616f6\">c</span></p></th></tr></thead><tbody><tr style=\"overflow-wrap:break-word;\"><td  rowspan=\"7\"class=\"cl-1e4f64b9\"><p class=\"cl-1e4f578e\"><span class=\"cl-1e46170a\">$$NDVI = a B + b$$</span></p></td><td  rowspan=\"7\"class=\"cl-1e4f64b9\"><p class=\"cl-1e4f578e\"><span class=\"cl-1e46170a\">$$b$$</span></p></td><td  rowspan=\"7\"class=\"cl-1e4f64b9\"><p class=\"cl-1e4f578e\"><span class=\"cl-1e46170a\">$$+\\infty$$</span></p></td><td  rowspan=\"7\"class=\"cl-1e4f64b9\"><p class=\"cl-1e4f578e\"><span class=\"cl-1e46170a\">$$B = (1/a) NDVI - (b/a)$$</span></p></td><td class=\"cl-1e4f64b9\"><p class=\"cl-1e4f578e\"><span class=\"cl-1e46170a\"></span></p></td><td class=\"cl-1e4f64b9\"><p class=\"cl-1e4f578e\"><span class=\"cl-1e46170a\"></span></p></td><td class=\"cl-1e4f64b9\"><p class=\"cl-1e4f578e\"><span class=\"cl-1e46170a\"></span></p></td><td class=\"cl-1e4f64b9\"><p class=\"cl-1e4f578e\"><span class=\"cl-1e46170a\"></span></p></td><td class=\"cl-1e4f64b9\"><p class=\"cl-1e4f578e\"><span class=\"cl-1e46170a\"></span></p></td><td class=\"cl-1e4f64b9\"><p class=\"cl-1e4f578e\"><span class=\"cl-1e46170a\"></span></p></td></tr><tr style=\"overflow-wrap:break-word;\"><td class=\"cl-1e4f64ba\"><p class=\"cl-1e4f578e\"><span class=\"cl-1e46170a\"></span></p></td><td class=\"cl-1e4f64ba\"><p class=\"cl-1e4f578e\"><span class=\"cl-1e46170a\"></span></p></td><td class=\"cl-1e4f64ba\"><p class=\"cl-1e4f578e\"><span class=\"cl-1e46170a\"></span></p></td><td class=\"cl-1e4f64ba\"><p class=\"cl-1e4f578e\"><span class=\"cl-1e46170a\"></span></p></td><td class=\"cl-1e4f64ba\"><p class=\"cl-1e4f578e\"><span class=\"cl-1e46170a\"></span></p></td><td class=\"cl-1e4f64ba\"><p class=\"cl-1e4f578e\"><span class=\"cl-1e46170a\"></span></p></td></tr><tr style=\"overflow-wrap:break-word;\"><td class=\"cl-1e4f64ba\"><p class=\"cl-1e4f578e\"><span class=\"cl-1e46170a\"></span></p></td><td class=\"cl-1e4f64ba\"><p class=\"cl-1e4f578e\"><span class=\"cl-1e46170a\"></span></p></td><td class=\"cl-1e4f64ba\"><p class=\"cl-1e4f578e\"><span class=\"cl-1e46170a\"></span></p></td><td class=\"cl-1e4f64ba\"><p class=\"cl-1e4f578e\"><span class=\"cl-1e46170a\"></span></p></td><td class=\"cl-1e4f64ba\"><p class=\"cl-1e4f578e\"><span class=\"cl-1e46170a\"></span></p></td><td class=\"cl-1e4f64ba\"><p class=\"cl-1e4f578e\"><span class=\"cl-1e46170a\"></span></p></td></tr><tr style=\"overflow-wrap:break-word;\"><td class=\"cl-1e4f64ba\"><p class=\"cl-1e4f578e\"><span class=\"cl-1e46170a\"></span></p></td><td class=\"cl-1e4f64ba\"><p class=\"cl-1e4f578e\"><span class=\"cl-1e46170a\"></span></p></td><td class=\"cl-1e4f64ba\"><p class=\"cl-1e4f578e\"><span class=\"cl-1e46170a\"></span></p></td><td class=\"cl-1e4f64ba\"><p class=\"cl-1e4f578e\"><span class=\"cl-1e46170a\"></span></p></td><td class=\"cl-1e4f64ba\"><p class=\"cl-1e4f578e\"><span class=\"cl-1e46170a\"></span></p></td><td class=\"cl-1e4f64ba\"><p class=\"cl-1e4f578e\"><span class=\"cl-1e46170a\"></span></p></td></tr><tr style=\"overflow-wrap:break-word;\"><td class=\"cl-1e4f64ba\"><p class=\"cl-1e4f578e\"><span class=\"cl-1e46170a\"></span></p></td><td class=\"cl-1e4f64ba\"><p class=\"cl-1e4f578e\"><span class=\"cl-1e46170a\"></span></p></td><td class=\"cl-1e4f64ba\"><p class=\"cl-1e4f578e\"><span class=\"cl-1e46170a\"></span></p></td><td class=\"cl-1e4f64ba\"><p class=\"cl-1e4f578e\"><span class=\"cl-1e46170a\"></span></p></td><td class=\"cl-1e4f64ba\"><p class=\"cl-1e4f578e\"><span class=\"cl-1e46170a\"></span></p></td><td class=\"cl-1e4f64ba\"><p class=\"cl-1e4f578e\"><span class=\"cl-1e46170a\"></span></p></td></tr><tr style=\"overflow-wrap:break-word;\"><td class=\"cl-1e4f64ba\"><p class=\"cl-1e4f578e\"><span class=\"cl-1e46170a\"></span></p></td><td class=\"cl-1e4f64ba\"><p class=\"cl-1e4f578e\"><span class=\"cl-1e46170a\"></span></p></td><td class=\"cl-1e4f64ba\"><p class=\"cl-1e4f578e\"><span class=\"cl-1e46170a\"></span></p></td><td class=\"cl-1e4f64ba\"><p class=\"cl-1e4f578e\"><span class=\"cl-1e46170a\"></span></p></td><td class=\"cl-1e4f64ba\"><p class=\"cl-1e4f578e\"><span class=\"cl-1e46170a\"></span></p></td><td class=\"cl-1e4f64ba\"><p class=\"cl-1e4f578e\"><span class=\"cl-1e46170a\"></span></p></td></tr><tr style=\"overflow-wrap:break-word;\"><td class=\"cl-1e4f64ba\"><p class=\"cl-1e4f578e\"><span class=\"cl-1e46170a\"></span></p></td><td class=\"cl-1e4f64ba\"><p class=\"cl-1e4f578e\"><span class=\"cl-1e46170a\"></span></p></td><td class=\"cl-1e4f64ba\"><p class=\"cl-1e4f578e\"><span class=\"cl-1e46170a\"></span></p></td><td class=\"cl-1e4f64ba\"><p class=\"cl-1e4f578e\"><span class=\"cl-1e46170a\"></span></p></td><td class=\"cl-1e4f64ba\"><p class=\"cl-1e4f578e\"><span class=\"cl-1e46170a\"></span></p></td><td class=\"cl-1e4f64ba\"><p class=\"cl-1e4f578e\"><span class=\"cl-1e46170a\"></span></p></td></tr><tr style=\"overflow-wrap:break-word;\"><td class=\"cl-1e4f64ba\"><p class=\"cl-1e4f578e\"><span class=\"cl-1e46170a\">$$NDVI = a + b\\left(1-e^{-cB}\\right)$$</span></p></td><td class=\"cl-1e4f64ba\"><p class=\"cl-1e4f578e\"><span class=\"cl-1e46170a\">$$a$$</span></p></td><td class=\"cl-1e4f64ba\"><p class=\"cl-1e4f578e\"><span class=\"cl-1e46170a\">$$a+b$$</span></p></td><td class=\"cl-1e4f64ba\"><p class=\"cl-1e4f578e\"><span class=\"cl-1e46170a\">$$B = (1/a) NDVI - (b/a)+1$$</span></p></td><td class=\"cl-1e4f64ba\"><p class=\"cl-1e4f578e\"><span class=\"cl-1e46170a\"></span></p></td><td class=\"cl-1e4f64ba\"><p class=\"cl-1e4f578e\"><span class=\"cl-1e46170a\"></span></p></td><td class=\"cl-1e4f64ba\"><p class=\"cl-1e4f578e\"><span class=\"cl-1e46170a\"></span></p></td><td class=\"cl-1e4f64ba\"><p class=\"cl-1e4f578e\"><span class=\"cl-1e46170a\"></span></p></td><td class=\"cl-1e4f64ba\"><p class=\"cl-1e4f578e\"><span class=\"cl-1e46170a\"></span></p></td><td class=\"cl-1e4f64ba\"><p class=\"cl-1e4f578e\"><span class=\"cl-1e46170a\"></span></p></td></tr><tr style=\"overflow-wrap:break-word;\"><td class=\"cl-1e4f64ba\"><p class=\"cl-1e4f578e\"><span class=\"cl-1e46170a\">$$NDVI = \\left(\\frac{B-a}{b}\\right)^{1/c}$$</span></p></td><td class=\"cl-1e4f64ba\"><p class=\"cl-1e4f578e\"><span class=\"cl-1e46170a\">$$\\left(\\frac{-a}{b}\\right)^{1/c}$$</span></p></td><td  rowspan=\"3\"class=\"cl-1e4f64bb\"><p class=\"cl-1e4f578e\"><span class=\"cl-1e46170a\">$$+\\infty$$</span></p></td><td class=\"cl-1e4f64ba\"><p class=\"cl-1e4f578e\"><span class=\"cl-1e46170a\">$$B = (1/a) NDVI - (b/a)+2$$</span></p></td><td class=\"cl-1e4f64ba\"><p class=\"cl-1e4f578e\"><span class=\"cl-1e46170a\"></span></p></td><td class=\"cl-1e4f64ba\"><p class=\"cl-1e4f578e\"><span class=\"cl-1e46170a\"></span></p></td><td class=\"cl-1e4f64ba\"><p class=\"cl-1e4f578e\"><span class=\"cl-1e46170a\"></span></p></td><td class=\"cl-1e4f64ba\"><p class=\"cl-1e4f578e\"><span class=\"cl-1e46170a\"></span></p></td><td class=\"cl-1e4f64ba\"><p class=\"cl-1e4f578e\"><span class=\"cl-1e46170a\"></span></p></td><td class=\"cl-1e4f64ba\"><p class=\"cl-1e4f578e\"><span class=\"cl-1e46170a\"></span></p></td></tr><tr style=\"overflow-wrap:break-word;\"><td  rowspan=\"2\"class=\"cl-1e4f64bb\"><p class=\"cl-1e4f578e\"><span class=\"cl-1e46170a\">$$NDVI = \\frac{1}{b}\\ln\\left(\\frac{1}{a}B\\right)$$</span></p></td><td  rowspan=\"2\"class=\"cl-1e4f64bb\"><p class=\"cl-1e4f578e\"><span class=\"cl-1e46170a\">$$-\\infty$$</span></p></td><td  rowspan=\"2\"class=\"cl-1e4f64bb\"><p class=\"cl-1e4f578e\"><span class=\"cl-1e46170a\">$$B = (1/a) NDVI - (b/a)+3$$</span></p></td><td class=\"cl-1e4f64ba\"><p class=\"cl-1e4f578e\"><span class=\"cl-1e46170a\"></span></p></td><td class=\"cl-1e4f64ba\"><p class=\"cl-1e4f578e\"><span class=\"cl-1e46170a\"></span></p></td><td class=\"cl-1e4f64ba\"><p class=\"cl-1e4f578e\"><span class=\"cl-1e46170a\"></span></p></td><td class=\"cl-1e4f64ba\"><p class=\"cl-1e4f578e\"><span class=\"cl-1e46170a\"></span></p></td><td class=\"cl-1e4f64ba\"><p class=\"cl-1e4f578e\"><span class=\"cl-1e46170a\"></span></p></td><td class=\"cl-1e4f64ba\"><p class=\"cl-1e4f578e\"><span class=\"cl-1e46170a\"></span></p></td></tr><tr style=\"overflow-wrap:break-word;\"><td class=\"cl-1e4f64bb\"><p class=\"cl-1e4f578e\"><span class=\"cl-1e46170a\"></span></p></td><td class=\"cl-1e4f64bb\"><p class=\"cl-1e4f578e\"><span class=\"cl-1e46170a\"></span></p></td><td class=\"cl-1e4f64bb\"><p class=\"cl-1e4f578e\"><span class=\"cl-1e46170a\"></span></p></td><td class=\"cl-1e4f64bb\"><p class=\"cl-1e4f578e\"><span class=\"cl-1e46170a\"></span></p></td><td class=\"cl-1e4f64bb\"><p class=\"cl-1e4f578e\"><span class=\"cl-1e46170a\"></span></p></td><td class=\"cl-1e4f64bb\"><p class=\"cl-1e4f578e\"><span class=\"cl-1e46170a\"></span></p></td></tr></tbody></table></div>"
      ]
     }
    }
   ],
   "source": [
    "library(flextable)"
   ],
   "id": "441117fd-2ca4-4aac-8683-6cb3c38eb131"
  },
  {
   "cell_type": "markdown",
   "metadata": {},
   "source": [
    "### Standardized framework choosen\n",
    "\n",
    "The non-linear function choosen here has to be asymptotic\n",
    "\n",
    "$$\n",
    "B_{a,b,c}(NDVI) = \\frac{1}{c}ln\\left(\\frac{b}{a+b-NDVI}\\right)\n",
    "$$ {#eq-NDVIB}\n",
    "\n",
    "### From linear assumptions to the non-linear framework\n",
    "\n",
    "It’s often made the assumption that the relationship between NDVI and biomass is linear such as :\n",
    "\n",
    "$$\n",
    "B_{\\alpha,\\beta}(NDVI) = \\alpha NDVI + \\beta\n",
    "$$\n",
    "\n",
    "Which is the linearization of the non-linear function around a point, if the NDVI range is small enough.\n",
    "\n",
    "$$\n",
    "\\begin{aligned}\n",
    "    B_{a,b,c}(NDVI) &= \\frac{1}{c}ln\\left(\\frac{b}{a+b-(x+NDVI_{mean})}\\right)\\\\\n",
    "    &= \\frac{1}{c}\\left[ln\\left(\\frac{b}{a+b-NDVI_{mean}}\\right)-ln\\left(1-\\frac{x}{a+b-NDVI_{mean}}\\right)\\right]\\\\\n",
    "    &= \\frac{1}{c}\\left[ln\\left(\\frac{b}{a+b-NDVI_{mean}}\\right)+\\frac{x}{a+b-NDVI_{mean}}\\right]\\\\\n",
    "    &= \\frac{1}{c}\\left[ln\\left(\\frac{b}{a+b-NDVI_{mean}}\\right)+\\frac{NDVI - NDVI_{mean}}{a+b-NDVI_{mean}}\\right]\\\\\n",
    "    &= \\left[\\frac{1}{c(a+b-NDVI_{mean})}\\right]NDVI\\\\&+\\left[\\frac{1}{c}ln\\left(\\frac{b}{a+b-NDVI_{mean}}\\right)-\\frac{NDVI_{mean}}{c(a+b-NDVI_{mean})}\\right]\\\\\n",
    "\\end{aligned}\n",
    "$$ {#eq-linearNDVIB}\n",
    "\n",
    "So we have\n",
    "\n",
    "$$\n",
    "\\alpha = \\frac{1}{c(a+b-NDVI_{mean})}\n",
    "$$ {#eq-alinear}\n",
    "\n",
    "and\n",
    "\n",
    "$$\n",
    "\\beta = \\frac{1}{c}ln\\left(\\frac{b}{a+b-NDVI_{mean}}\\right)-\\frac{NDVI_{mean}}{c(a+b-NDVI_{mean})}\n",
    "$$ {#eq-blinear}\n",
    "\n",
    "To find $a$,$b$ and $c$ we have 3 unknowns and 2 equations. We must add another constraint :\n",
    "\n",
    "$$\n",
    "\\beta = \\frac{1}{c}ln\\left(\\frac{b}{a+b}\\right)\n",
    "$$ {#eq-betaNDVInull}\n",
    "\n",
    "# Scaling Bias"
   ],
   "id": "ceb03126-270b-4559-8607-80dac2ecc786"
  }
 ],
 "nbformat": 4,
 "nbformat_minor": 5,
 "metadata": {}
}
